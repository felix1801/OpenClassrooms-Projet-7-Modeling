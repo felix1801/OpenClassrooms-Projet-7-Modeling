{
 "cells": [
  {
   "cell_type": "code",
   "execution_count": null,
   "metadata": {},
   "outputs": [],
   "source": [
    "from pipelines.utils.models import kfold_lightgbm\n",
    "import pipelines.utils.models as models"
   ]
  },
  {
   "cell_type": "code",
   "execution_count": null,
   "metadata": {},
   "outputs": [],
   "source": [
    "# reload kfold_lightgbm library\n",
    "import importlib\n",
    "importlib.reload(models)\n",
    "\n",
    "feat_importance = kfold_lightgbm(df, num_folds= 10, stratified= False)"
   ]
  },
  {
   "cell_type": "code",
   "execution_count": null,
   "metadata": {},
   "outputs": [],
   "source": [
    "# save feature importance\n",
    "feat_importance.to_csv('../data/08_reporting/feature_importance.csv', index=False)"
   ]
  },
  {
   "cell_type": "markdown",
   "metadata": {},
   "source": [
    "AUC moyen de 0.78 --> Le modèle tombe en moyenne 78% de fois sur la bonne réponse (>0.5 donc mieux qu'aléatoire)\n",
    "\n"
   ]
  }
 ],
 "metadata": {
  "language_info": {
   "name": "python"
  }
 },
 "nbformat": 4,
 "nbformat_minor": 2
}
