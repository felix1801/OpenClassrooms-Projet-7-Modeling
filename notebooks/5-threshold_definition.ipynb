{
 "cells": [
  {
   "cell_type": "code",
   "execution_count": null,
   "metadata": {},
   "outputs": [],
   "source": [
    "1 - définition du fonction qui évalue le cout métier global de toutes mes prédictions\n",
    "\n",
    "2 - tester différents seuils, et choisi celui qui minimise la fonction cout\n",
    "\n",
    "3 - tester le modèle final avec ce seuil avec AUC-ROC, accuracy, rappel, F1"
   ]
  },
  {
   "cell_type": "code",
   "execution_count": null,
   "metadata": {},
   "outputs": [],
   "source": [
    "# Define a work cost function\n",
    "def cost_metric(y_true, y_pred, cost_fn=cost_fn, cost_fp=cost_fp):\n",
    "    _, fp, fn, _ = confusion_matrix(y_true, y_pred).ravel()\n",
    "    cost = (fn * cost_fn) + (fp * cost_fp)\n",
    "    return cost\n",
    "\n",
    "## Il faut la normaliser entre 2 valeurs pour que ça soit comparable entre 2 jeux de données différents"
   ]
  },
  {
   "cell_type": "code",
   "execution_count": null,
   "metadata": {},
   "outputs": [],
   "source": [
    "def optimize_threshold(y_true, y_proba, cost_fn=cost_fn, cost_fp=cost_fp):\n",
    "    _, _, thresholds = roc_curve(y_true, y_proba)\n",
    "    costs = []\n",
    "    for threshold in thresholds:\n",
    "        y_pred = (y_proba <= threshold).astype(int)\n",
    "        cost = cost_metric(y_true, y_pred, cost_fn, cost_fp)\n",
    "        costs.append(cost)\n",
    "    optimal_idx = np.argmin(costs)\n",
    "    optimal_threshold = thresholds[optimal_idx]\n",
    "    return optimal_threshold"
   ]
  },
  {
   "cell_type": "code",
   "execution_count": null,
   "metadata": {},
   "outputs": [],
   "source": [
    "model = pickle.load('model')\n",
    "\n",
    "# LightGBM classifier\n",
    "custom_model = CustomThresholdModel(model, threshold)\n",
    "\n",
    "# Prédire les probabilités sur l'ensemble de test\n",
    "scores, proba = custom_model.predict(X_test)[:, 1]\n",
    "\n",
    "# Calculer l'AUC-ROC sur l'ensemble de test\n",
    "test_auc_roc = roc_auc_score(y_test, y_pred_proba)\n",
    "print(f\"Test AUC-ROC: {test_auc_roc}\")"
   ]
  }
 ],
 "metadata": {
  "language_info": {
   "name": "python"
  }
 },
 "nbformat": 4,
 "nbformat_minor": 2
}
