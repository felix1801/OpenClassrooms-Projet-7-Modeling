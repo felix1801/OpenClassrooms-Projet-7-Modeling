{
 "cells": [
  {
   "cell_type": "code",
   "execution_count": 3,
   "metadata": {},
   "outputs": [],
   "source": [
    "import pandas as pd\n",
    "import requests\n",
    "import os"
   ]
  },
  {
   "cell_type": "markdown",
   "metadata": {},
   "source": [
    "# Features drift"
   ]
  },
  {
   "cell_type": "code",
   "execution_count": 4,
   "metadata": {},
   "outputs": [
    {
     "name": "stderr",
     "output_type": "stream",
     "text": [
      "C:\\Users\\Z478SG\\AppData\\Local\\Temp\\ipykernel_8720\\693274606.py:2: DtypeWarning: Columns (756,757,761,762,766,767,771,772,776,777,781,782,786,787,791,792) have mixed types. Specify dtype option on import or set low_memory=False.\n",
      "  features_df = pd.read_csv(features_path)\n"
     ]
    }
   ],
   "source": [
    "features_path = os.path.abspath(os.path.join(os.getcwd(), '..', 'data', '03_primary', 'df_agg.csv'))\n",
    "features_df = pd.read_csv(features_path)"
   ]
  },
  {
   "cell_type": "code",
   "execution_count": 5,
   "metadata": {},
   "outputs": [],
   "source": [
    "train_features = features_df[features_df['TARGET'].notna()]\n",
    "prod_features = features_df[features_df['TARGET'].isna()]"
   ]
  },
  {
   "cell_type": "code",
   "execution_count": 6,
   "metadata": {},
   "outputs": [],
   "source": [
    "## Faire aussi sur les données pas processées :\n",
    "# La plupart des .csv n'ont pas le même nombre de lignes que application_train.csv car ils servent à faire une jointure. \n",
    "# Dois-je analyser le drift just de application_test par rapport à application_train ? Car si je fais les jointures avec les autres tableau, c'est comme ci je traitais mes données pour en faire des features.\n",
    "# LA CONSIGNE EST : détecter éventuellement du Data Drift sur les principales features\n",
    "\n",
    "## OK - Regarder comment fonctionnent les 2 tests statistiques"
   ]
  },
  {
   "cell_type": "code",
   "execution_count": 7,
   "metadata": {},
   "outputs": [],
   "source": [
    "features = ['PAYMENT_RATE', 'EXT_SOURCE_1', 'EXT_SOURCE_2', 'EXT_SOURCE_3', 'DAYS_BIRTH', 'AMT_GOODS_PRICE', 'AMT_ANNUITY', 'DAYS_EMPLOYED', 'OWN_CAR_AGE', 'DAYS_ID_PUBLISH', 'DAYS_EMPLOYED_PERC', 'AMT_CREDIT' , 'CODE_GENDER', 'ANNUITY_INCOME_PERC', 'NAME_EDUCATION_TYPE_Higher education', 'NAME_CONTRACT_TYPE_Cash loans', 'DAYS_LAST_PHONE_CHANGE', 'DAYS_REGISTRATION', 'NAME_FAMILY_STATUS_Married', 'DEF_30_CNT_SOCIAL_CIRCLE', 'REGION_RATING_CLIENT_W_CITY', 'AMT_REQ_CREDIT_BUREAU_YEAR', 'FLAG_DOCUMENT_3', 'INCOME_CREDIT_PERC', 'AMT_REQ_CREDIT_BUREAU_QRT', 'NAME_EDUCATION_TYPE_Secondary / secondary special']"
   ]
  },
  {
   "cell_type": "code",
   "execution_count": 8,
   "metadata": {},
   "outputs": [
    {
     "name": "stderr",
     "output_type": "stream",
     "text": [
      "C:\\Users\\Z478SG\\AppData\\Local\\Temp\\ipykernel_8720\\441531714.py:3: FutureWarning: Setting an item of incompatible dtype is deprecated and will raise in a future error of pandas. Value '[0 1 0 ... 1 0 1]' has dtype incompatible with bool, please explicitly cast to a compatible dtype first.\n",
      "  train_features.loc[:,col] = train_features[col].astype(int)\n",
      "C:\\Users\\Z478SG\\AppData\\Local\\Temp\\ipykernel_8720\\441531714.py:4: FutureWarning: Setting an item of incompatible dtype is deprecated and will raise in a future error of pandas. Value '[1 0 1 ... 0 1 0]' has dtype incompatible with bool, please explicitly cast to a compatible dtype first.\n",
      "  prod_features.loc[:,col] = prod_features[col].astype(int)\n",
      "C:\\Users\\Z478SG\\AppData\\Local\\Temp\\ipykernel_8720\\441531714.py:3: FutureWarning: Setting an item of incompatible dtype is deprecated and will raise in a future error of pandas. Value '[1 1 0 ... 1 1 1]' has dtype incompatible with bool, please explicitly cast to a compatible dtype first.\n",
      "  train_features.loc[:,col] = train_features[col].astype(int)\n",
      "C:\\Users\\Z478SG\\AppData\\Local\\Temp\\ipykernel_8720\\441531714.py:4: FutureWarning: Setting an item of incompatible dtype is deprecated and will raise in a future error of pandas. Value '[1 1 1 ... 1 1 1]' has dtype incompatible with bool, please explicitly cast to a compatible dtype first.\n",
      "  prod_features.loc[:,col] = prod_features[col].astype(int)\n",
      "C:\\Users\\Z478SG\\AppData\\Local\\Temp\\ipykernel_8720\\441531714.py:3: FutureWarning: Setting an item of incompatible dtype is deprecated and will raise in a future error of pandas. Value '[0 1 0 ... 0 1 1]' has dtype incompatible with bool, please explicitly cast to a compatible dtype first.\n",
      "  train_features.loc[:,col] = train_features[col].astype(int)\n",
      "C:\\Users\\Z478SG\\AppData\\Local\\Temp\\ipykernel_8720\\441531714.py:4: FutureWarning: Setting an item of incompatible dtype is deprecated and will raise in a future error of pandas. Value '[1 1 1 ... 1 1 1]' has dtype incompatible with bool, please explicitly cast to a compatible dtype first.\n",
      "  prod_features.loc[:,col] = prod_features[col].astype(int)\n",
      "C:\\Users\\Z478SG\\AppData\\Local\\Temp\\ipykernel_8720\\441531714.py:3: FutureWarning: Setting an item of incompatible dtype is deprecated and will raise in a future error of pandas. Value '[1 0 1 ... 0 1 0]' has dtype incompatible with bool, please explicitly cast to a compatible dtype first.\n",
      "  train_features.loc[:,col] = train_features[col].astype(int)\n",
      "C:\\Users\\Z478SG\\AppData\\Local\\Temp\\ipykernel_8720\\441531714.py:4: FutureWarning: Setting an item of incompatible dtype is deprecated and will raise in a future error of pandas. Value '[0 1 0 ... 1 0 1]' has dtype incompatible with bool, please explicitly cast to a compatible dtype first.\n",
      "  prod_features.loc[:,col] = prod_features[col].astype(int)\n"
     ]
    }
   ],
   "source": [
    "for col in features:\n",
    "    if train_features[col].dtype == 'bool':\n",
    "        train_features.loc[:,col] = train_features[col].astype(int)\n",
    "        prod_features.loc[:,col] = prod_features[col].astype(int)"
   ]
  },
  {
   "cell_type": "code",
   "execution_count": 9,
   "metadata": {},
   "outputs": [],
   "source": [
    "from evidently import ColumnMapping\n",
    "from evidently.report import Report\n",
    "from evidently.metric_preset import DataDriftPreset\n",
    "\n",
    "# Define column mapping if necessary\n",
    "column_mapping = ColumnMapping(\n",
    "    # target='TARGET',  # Replace with your target column name if applicable\n",
    "    # prediction='PREDICTION',  # Replace with your prediction column name if applicable\n",
    "    numerical_features=features,  # Replace with your numerical feature columns\n",
    "    categorical_features=[]  # Replace with your categorical feature columns\n",
    ")\n",
    "\n",
    "# Create the data drift report\n",
    "report = Report(metrics=[\n",
    "    DataDriftPreset(),\n",
    "])\n",
    "\n",
    "report.run(reference_data=train_features[features], current_data=prod_features[features], column_mapping=column_mapping)\n",
    "\n",
    "# Save the report as an HTML file\n",
    "features_drift_report_path = os.path.abspath(os.path.join(os.getcwd(), '..', 'data', '08_reporting', 'features_drift_report.html'))\n",
    "report.save_html(features_drift_report_path)\n"
   ]
  },
  {
   "cell_type": "markdown",
   "metadata": {},
   "source": [
    "La distance de Wasserstein mesure le coût minimal de transformation d'une distribution en une autre, calculant essentiellement la quantité de \"travail\" nécessaire pour reshaper une distribution. Elle est particulièrement sensible aux changements de forme et de localisation des données, offrant une mesure intuitive de la dissimilarité entre deux ensembles de valeurs.\n",
    "\n",
    "La distance de Jensen-Shannon, quant à elle, évalue la similarité globale entre deux distributions de probabilité en calculant une moyenne symétrique des divergences. Toujours comprise entre 0 et 1, elle fournit une mesure robuste des différences probabilistes, permettant de quantifier à quel point deux distributions s'écartent l'une de l'autre de manière globale et symétrique."
   ]
  },
  {
   "cell_type": "code",
   "execution_count": 10,
   "metadata": {},
   "outputs": [
    {
     "data": {
      "text/plain": [
       "True"
      ]
     },
     "execution_count": 10,
     "metadata": {},
     "output_type": "execute_result"
    }
   ],
   "source": [
    "import webbrowser\n",
    "\n",
    "# Open the HTML report in the default web browser\n",
    "webbrowser.open(report_path)\n"
   ]
  },
  {
   "cell_type": "markdown",
   "metadata": {},
   "source": [
    "# Raw data drift"
   ]
  },
  {
   "cell_type": "code",
   "execution_count": 11,
   "metadata": {},
   "outputs": [],
   "source": [
    "train_data_path = os.path.abspath(os.path.join(os.getcwd(), '..', 'data', '01_raw', 'application_train.csv'))\n",
    "prod_data_path = os.path.abspath(os.path.join(os.getcwd(), '..', 'data', '01_raw', 'application_test.csv'))"
   ]
  },
  {
   "cell_type": "code",
   "execution_count": 19,
   "metadata": {},
   "outputs": [],
   "source": [
    "train_data = pd.read_csv(train_data_path).drop('TARGET', axis=1)\n",
    "prod_data = pd.read_csv(prod_data_path)"
   ]
  },
  {
   "cell_type": "code",
   "execution_count": 20,
   "metadata": {},
   "outputs": [],
   "source": [
    "from evidently import ColumnMapping\n",
    "from evidently.report import Report\n",
    "from evidently.metric_preset import DataDriftPreset\n",
    "\n",
    "# Define column mapping if necessary\n",
    "column_mapping = ColumnMapping(\n",
    "    # target='TARGET',  # Replace with your target column name if applicable\n",
    "    # prediction='PREDICTION',  # Replace with your prediction column name if applicable\n",
    "    numerical_features=train_data.columns.tolist(),  # Replace with your numerical feature columns\n",
    "    categorical_features=[]  # Replace with your categorical feature columns\n",
    ")\n",
    "\n",
    "# Create the data drift report\n",
    "report = Report(metrics=[\n",
    "    DataDriftPreset(),\n",
    "])\n",
    "\n",
    "report.run(reference_data=train_data, current_data=prod_data, column_mapping=column_mapping)\n",
    "\n",
    "# Save the report as an HTML file\n",
    "raw_data_drift_report_path = os.path.abspath(os.path.join(os.getcwd(), '..', 'data', '08_reporting', 'raw_data_drift_report.html'))\n",
    "report.save_html(raw_data_drift_report_path)\n"
   ]
  },
  {
   "cell_type": "code",
   "execution_count": 21,
   "metadata": {},
   "outputs": [
    {
     "data": {
      "text/plain": [
       "True"
      ]
     },
     "execution_count": 21,
     "metadata": {},
     "output_type": "execute_result"
    }
   ],
   "source": [
    "import webbrowser\n",
    "\n",
    "# Open the HTML report in the default web browser\n",
    "webbrowser.open(report_path)"
   ]
  }
 ],
 "metadata": {
  "kernelspec": {
   "display_name": "base",
   "language": "python",
   "name": "python3"
  },
  "language_info": {
   "codemirror_mode": {
    "name": "ipython",
    "version": 3
   },
   "file_extension": ".py",
   "mimetype": "text/x-python",
   "name": "python",
   "nbconvert_exporter": "python",
   "pygments_lexer": "ipython3",
   "version": "3.12.3"
  }
 },
 "nbformat": 4,
 "nbformat_minor": 2
}
