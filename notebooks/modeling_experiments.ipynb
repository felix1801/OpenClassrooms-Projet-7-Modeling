{
 "cells": [
  {
   "cell_type": "markdown",
   "metadata": {},
   "source": [
    "# Create and run model"
   ]
  },
  {
   "cell_type": "markdown",
   "metadata": {},
   "source": [
    "## Load libraries"
   ]
  },
  {
   "cell_type": "code",
   "execution_count": 2,
   "metadata": {},
   "outputs": [],
   "source": [
    "from sklearn.model_selection import train_test_split, GridSearchCV, cross_val_score\n",
    "from sklearn.metrics import accuracy_score, roc_auc_score, roc_curve, precision_recall_curve, auc, confusion_matrix, f1_score\n",
    "\n",
    "import pandas as pd\n",
    "import numpy as np"
   ]
  },
  {
   "cell_type": "markdown",
   "metadata": {},
   "source": [
    "## Set global parameters"
   ]
  },
  {
   "cell_type": "code",
   "execution_count": 3,
   "metadata": {},
   "outputs": [],
   "source": [
    "data_path = '../data/03_primary/processed_data.csv'\n",
    "artifact_path = \"../data/06_models/\"\n",
    "test_size = 0.2\n",
    "random_state = 18\n",
    "cost_fn = 10\n",
    "cost_fp = 1"
   ]
  },
  {
   "cell_type": "markdown",
   "metadata": {},
   "source": [
    "## Load data"
   ]
  },
  {
   "cell_type": "code",
   "execution_count": 4,
   "metadata": {},
   "outputs": [],
   "source": [
    "# Load data\n",
    "raw_data = pd.read_csv(data_path)\n",
    "raw_data = raw_data.astype('float32')\n"
   ]
  },
  {
   "cell_type": "code",
   "execution_count": 5,
   "metadata": {},
   "outputs": [],
   "source": [
    "data = raw_data[['SK_ID_CURR', 'PAYMENT_RATE', 'EXT_SOURCE_3', 'EXT_SOURCE_2', 'DAYS_BIRTH', 'EXT_SOURCE_1', 'DAYS_EMPLOYED', 'DAYS_EMPLOYED_PERC', 'DAYS_REGISTRATION', 'DAYS_ID_PUBLISH', 'ANNUITY_INCOME_PERC', 'INSTAL_DBD_MEAN', 'AMT_ANNUITY', 'TARGET']].astype('float32')"
   ]
  },
  {
   "cell_type": "code",
   "execution_count": 6,
   "metadata": {},
   "outputs": [],
   "source": [
    "\n",
    "# Remove lines with TARGET = NaN\n",
    "data = data.dropna(subset=[\"TARGET\"])"
   ]
  },
  {
   "cell_type": "code",
   "execution_count": 7,
   "metadata": {},
   "outputs": [],
   "source": [
    "X = data.drop(\"TARGET\", axis=1)\n",
    "y = data[\"TARGET\"]"
   ]
  },
  {
   "cell_type": "markdown",
   "metadata": {},
   "source": [
    "## Split data"
   ]
  },
  {
   "cell_type": "code",
   "execution_count": 8,
   "metadata": {},
   "outputs": [],
   "source": [
    "# Split data\n",
    "X_train, X_test, y_train, y_test = train_test_split(X, y, test_size=test_size, random_state=random_state)"
   ]
  },
  {
   "cell_type": "markdown",
   "metadata": {},
   "source": [
    "## Create model"
   ]
  },
  {
   "cell_type": "markdown",
   "metadata": {},
   "source": [
    "### Set grid parameters"
   ]
  },
  {
   "cell_type": "code",
   "execution_count": 9,
   "metadata": {},
   "outputs": [],
   "source": [
    "# create param grid with 3 options on each for LGBMClassifier\n",
    "param_grid = {\n",
    "    'n_estimators': [50, 100, 200],\n",
    "    'learning_rate': [0.01, 0.1, 0.5],\n",
    "    'num_leaves': [31, 63, 127],\n",
    "    'boosting_type': ['gbdt', 'dart', 'goss']\n",
    "}"
   ]
  },
  {
   "cell_type": "markdown",
   "metadata": {},
   "source": [
    "### Train and search best parameters of model"
   ]
  },
  {
   "cell_type": "code",
   "execution_count": 1,
   "metadata": {},
   "outputs": [],
   "source": [
    "from lightgbm import LGBMClassifier"
   ]
  },
  {
   "cell_type": "code",
   "execution_count": 19,
   "metadata": {},
   "outputs": [],
   "source": [
    "def train_model(X_train, y_train, param_grid):\n",
    "    # Initialisation du modèle\n",
    "    model = LGBMClassifier()\n",
    "\n",
    "    # Initialisation de GridSearchCV\n",
    "    grid_search = GridSearchCV(model, param_grid, cv=5, scoring='roc_auc', n_jobs=-1)\n",
    "\n",
    "    # Entraînement du modèle\n",
    "    grid_search.fit(X_train, y_train)\n",
    "\n",
    "    return grid_search"
   ]
  },
  {
   "cell_type": "markdown",
   "metadata": {},
   "source": [
    "## Evaluate model"
   ]
  },
  {
   "cell_type": "code",
   "execution_count": 11,
   "metadata": {},
   "outputs": [],
   "source": [
    "# Define a work cost function\n",
    "def cost_metric(y_true, y_pred, cost_fn=cost_fn, cost_fp=cost_fp):\n",
    "    tn, fp, fn, tp = confusion_matrix(y_true, y_pred).ravel()\n",
    "    cost = (fn * cost_fn) + (fp * cost_fp)\n",
    "    return cost"
   ]
  },
  {
   "cell_type": "code",
   "execution_count": 12,
   "metadata": {},
   "outputs": [],
   "source": [
    "def optimize_threshold(y_true, y_proba, cost_fn=cost_fn, cost_fp=cost_fp):\n",
    "    fpr, tpr, thresholds = roc_curve(y_true, y_proba)\n",
    "    costs = []\n",
    "    for threshold in thresholds:\n",
    "        y_pred = (y_proba >= threshold).astype(int)\n",
    "        cost = cost_metric(y_true, y_pred, cost_fn, cost_fp)\n",
    "        costs.append(cost)\n",
    "    optimal_idx = np.argmin(costs)\n",
    "    optimal_threshold = thresholds[optimal_idx]\n",
    "    return optimal_threshold\n"
   ]
  },
  {
   "cell_type": "code",
   "execution_count": 13,
   "metadata": {},
   "outputs": [],
   "source": [
    "def assess_model(best_model, X_test, y_test):\n",
    "    # Prédictions sur l'ensemble de test\n",
    "    y_proba = best_model.predict_proba(X_test)[:, 1]\n",
    "    optimal_threshold = optimize_threshold(y_test, y_proba)\n",
    "    y_pred = (y_proba >= optimal_threshold).astype(int)\n",
    "\n",
    "    # Calcul des métriques\n",
    "    auc_roc = roc_auc_score(y_test, y_proba)\n",
    "    precision, recall, _ = precision_recall_curve(y_test, y_proba)\n",
    "    auc_pr = auc(recall, precision) # Area Under the Precision-Recall Curve\n",
    "    cost = cost_metric(y_test, y_pred)\n",
    "    f1 = f1_score(y_test, y_pred) # F1 score\n",
    "    accuracy = accuracy_score(y_test, y_pred)\n",
    "\n",
    "    \n",
    "\n",
    "    # return y_proba, optimal_threshold, y_pred\n",
    "\n",
    "    return accuracy, auc_roc, cost, auc_pr, f1"
   ]
  },
  {
   "cell_type": "markdown",
   "metadata": {},
   "source": [
    "# MLFlow"
   ]
  },
  {
   "cell_type": "markdown",
   "metadata": {},
   "source": [
    "## Import libraries"
   ]
  },
  {
   "cell_type": "code",
   "execution_count": 14,
   "metadata": {},
   "outputs": [],
   "source": [
    "import mlflow\n",
    "from mlflow.models import infer_signature"
   ]
  },
  {
   "cell_type": "markdown",
   "metadata": {},
   "source": [
    "## Set experiment and tracking URI"
   ]
  },
  {
   "cell_type": "code",
   "execution_count": 15,
   "metadata": {},
   "outputs": [
    {
     "name": "stderr",
     "output_type": "stream",
     "text": [
      "2024/08/31 02:42:52 INFO mlflow.tracking.fluent: Experiment with name 'Credit_Scoring_Model' does not exist. Creating a new experiment.\n"
     ]
    },
    {
     "data": {
      "text/plain": [
       "<Experiment: artifact_location='file:///c:/Users/Z478SG/Desktop/Ecole/OpenClassrooms-Projet-7/modeling/notebooks/../mlruns/993729443975881952', creation_time=1725064972357, experiment_id='993729443975881952', last_update_time=1725064972357, lifecycle_stage='active', name='Credit_Scoring_Model', tags={}>"
      ]
     },
     "execution_count": 15,
     "metadata": {},
     "output_type": "execute_result"
    }
   ],
   "source": [
    "mlflow.set_tracking_uri(uri=\"../mlruns\")\n",
    "\n",
    "mlflow.set_experiment(\"Credit_Scoring_Model\")\n"
   ]
  },
  {
   "cell_type": "markdown",
   "metadata": {},
   "source": [
    "## Log experiment data into MLFlow\n",
    "\n",
    "### /!\\ Before continuing, run the MLflow server in the background with a terminal window\n",
    "\n",
    "$ ./run_mlflow_server.sh\n",
    "\n",
    "Then open the web browser in [http://127.0.0.1:8080](http://127.0.0.1:8080)"
   ]
  },
  {
   "cell_type": "markdown",
   "metadata": {},
   "source": [
    "### Log data into MLFlow"
   ]
  },
  {
   "cell_type": "code",
   "execution_count": 20,
   "metadata": {},
   "outputs": [],
   "source": [
    "# Start an MLflow run\n",
    "with mlflow.start_run():\n",
    "    ## Run experiment\n",
    "    # Train model\n",
    "    grid_search = train_model(X_train, y_train, param_grid)\n",
    "\n",
    "    best_model = grid_search.best_estimator_\n",
    "\n",
    "    # Assess model\n",
    "    accuracy, auc_roc, cost, auc_pr, f1, optimal_threshold = assess_model(best_model, X_test, y_test)\n",
    "\n",
    "    ## Log data\n",
    "    # Set a tag that (key, value) we can use to remind ourselves what this run was for\n",
    "    mlflow.set_tag(\"Training Info\", \"Basic LR model for iris data, 30% test split\")\n",
    "\n",
    "    # Log parameters\n",
    "    mlflow.log_params({\n",
    "        \"test_size\": test_size,\n",
    "        \"random_state\": random_state,\n",
    "        \"cost_fn\": cost_fn\n",
    "        })\n",
    "    mlflow.log_params(param_grid)\n",
    "    mlflow.log_params(grid_search.best_params_)\n",
    "\n",
    "    # Log metrics (accuracy and AUC-ROC)\n",
    "    mlflow.log_metrics({\n",
    "        \"Accuracy\": accuracy,\n",
    "        \"AUC-ROC\": auc_roc,\n",
    "        \"Cost\": cost,\n",
    "        \"AUC-PR\": auc_pr,\n",
    "        \"F1\": f1,\n",
    "        \"Optimal Threshold\": optimal_threshold,\n",
    "        \"Mean CV Score\": mean_cv_score,\n",
    "        \"Std CV Score\": std_cv_score,\n",
    "        })\n",
    "\n",
    "    # Infer the model signature (input and output schema) from the training data\n",
    "    signature = infer_signature(X_train, best_model.predict(X_train))\n",
    "    \n",
    "    # Log model\n",
    "    model_info = mlflow.sklearn.log_model(\n",
    "        sk_model=best_model, \n",
    "        artifact_path=artifact_path, \n",
    "        signature=signature,\n",
    "        input_example=X_train,\n",
    "        )\n",
    "\n",
    "    # Log data path\n",
    "    mlflow.log_artifact(data_path)\n",
    "    "
   ]
  },
  {
   "cell_type": "markdown",
   "metadata": {},
   "source": [
    "## View experiments in MLFlow UI"
   ]
  },
  {
   "cell_type": "markdown",
   "metadata": {},
   "source": [
    "In a background terminal, run:  \n",
    "\n",
    "./run_mlflow_ui.py"
   ]
  },
  {
   "cell_type": "code",
   "execution_count": null,
   "metadata": {},
   "outputs": [],
   "source": []
  },
  {
   "cell_type": "markdown",
   "metadata": {},
   "source": [
    "## If result is good : Register the model as an official model"
   ]
  },
  {
   "cell_type": "code",
   "execution_count": null,
   "metadata": {},
   "outputs": [],
   "source": [
    "# If not registered during the run, officially register the model artifact with a specific name\n",
    "\n",
    "result = mlflow.register_model(\n",
    "    model_info.model_uri, \"name-of-the-working-model\"\n",
    ")"
   ]
  },
  {
   "cell_type": "code",
   "execution_count": null,
   "metadata": {},
   "outputs": [],
   "source": []
  }
 ],
 "metadata": {
  "kernelspec": {
   "display_name": "base",
   "language": "python",
   "name": "python3"
  },
  "language_info": {
   "codemirror_mode": {
    "name": "ipython",
    "version": 3
   },
   "file_extension": ".py",
   "mimetype": "text/x-python",
   "name": "python",
   "nbconvert_exporter": "python",
   "pygments_lexer": "ipython3",
   "version": "3.12.3"
  }
 },
 "nbformat": 4,
 "nbformat_minor": 2
}
